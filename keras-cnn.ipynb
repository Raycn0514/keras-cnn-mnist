{
  "cells": [
    {
      "metadata": {
        "_uuid": "923be1f3dd1cd06cd3cdbf8db2e0531482e0edd6",
        "_cell_guid": "2c3f4d7a-c41e-42f7-bafb-cc1b361a7253"
      },
      "cell_type": "markdown",
      "source": "## Introduction\n\nMNIST is the \"hello world\" of image classification. It is a dataset of handwritten digits taken mostly from United States Census Bureau employees. It is a set of images of digits 0-9, in grayscale and exactly identical dimensions, 28pixels x 28pixels. This serves as a relatively simple test for machine learning experiments and evaluating different models.\n\nIn this notebook, I explore convolutional neural networks using Keras. Specifically, explore how techniques such as adaptive learning rate and data augmentation affect classification accuracy. While I expect to see fairly high accuracy, that is not the primary objective here."
    },
    {
      "metadata": {
        "collapsed": true,
        "_cell_guid": "5273ad96-2551-4930-b1b5-ddaf53693e1a",
        "_kg_hide-input": true,
        "_kg_hide-output": true,
        "_uuid": "81d8c71c7b0a731fa1ce94f4a99570953683d84f",
        "trusted": true
      },
      "cell_type": "code",
      "source": "# This Python 3 environment comes with many helpful analytics libraries installed\n# It is defined by the kaggle/python docker image: https://github.com/kaggle/docker-python\n# For example, here's several helpful packages to load in \n\nimport numpy as np # linear algebra\nimport pandas as pd # data processing, CSV file I/O (e.g. pd.read_csv)\n\n# Input data files are available in the \"../input/\" directory.\n# For example, running this (by clicking run or pressing Shift+Enter) will list the files in the input directory\n\nfrom subprocess import check_output\n#print(check_output([\"ls\", \"../input\"]).decode(\"utf8\"))\n\n# Any results you write to the current directory are saved as output.",
      "execution_count": 1,
      "outputs": []
    },
    {
      "metadata": {
        "_cell_guid": "58222cd9-9129-499a-9404-3aa781312037",
        "_kg_hide-input": true,
        "_kg_hide-output": true,
        "_uuid": "7937162ce9ade686f6ec51f95ab8c3843c771393",
        "trusted": true
      },
      "cell_type": "code",
      "source": "from sklearn.model_selection import train_test_split\nfrom sklearn.metrics import classification_report\nimport matplotlib.pyplot as plt\nimport matplotlib\nimport matplotlib.image as mpimg\nimport numpy as np\nfrom numpy import random\n\nfrom keras.models import Sequential\nfrom keras.layers import Dense, Dropout, Activation, Flatten, Conv2D, MaxPooling2D\nfrom keras.utils import np_utils\nfrom keras.preprocessing.image import ImageDataGenerator\nfrom keras.callbacks import ReduceLROnPlateau\n\nfrom scipy.interpolate import interp1d, Rbf\n\ndef display_images(X, y, rows=5, columns=5, cmap=\"binary\"):\n    \"\"\" Display images and labels\n    \"\"\"\n    fig, ax = plt.subplots(rows,columns, figsize=(6,6))\n    for row in range(rows):\n        for column in range(columns):\n            ax[row][column].imshow(X[(row*columns)+column].reshape(28,28), cmap=cmap)\n            ax[row][column].set_title(\"{}:{}\".format(\"label\",np.argmax(y[(row*columns)+column])))\n            ax[row][column].set_axis_off()\n    fig.tight_layout()\n\n%matplotlib inline",
      "execution_count": 2,
      "outputs": [
        {
          "output_type": "stream",
          "text": "Using TensorFlow backend.\n",
          "name": "stderr"
        }
      ]
    },
    {
      "metadata": {
        "_uuid": "8552ca543a191e7028c8a61c44c4b979ebb79769",
        "_cell_guid": "786b3d89-544f-4ee0-9806-d433a34ee04e"
      },
      "cell_type": "markdown",
      "source": "## Load and prepare data\nOur data is a csv file with the true classification in the ```label``` column, followed by 784 pixel values (28x28 pixels unrolled). Each pixel takes a value ranging from 0-255. Since these are black and white images, each pixel is represented by a single value (channel) instead of three separate R, G, B values (3 channels) in a color image. "
    },
    {
      "metadata": {
        "_cell_guid": "20918de5-27e9-4020-9cf6-c4c504b6a079",
        "_kg_hide-input": true,
        "_uuid": "a122d287d994e0e21563c4984737a2bafc15daf1",
        "trusted": true,
        "_kg_hide-output": false
      },
      "cell_type": "code",
      "source": "df = pd.read_csv(\"../input/train.csv\")\ndf.sample(1)",
      "execution_count": 4,
      "outputs": [
        {
          "output_type": "execute_result",
          "execution_count": 4,
          "data": {
            "text/plain": "       label  pixel0  pixel1  pixel2  pixel3  pixel4  pixel5  pixel6  pixel7  \\\n15592      2       0       0       0       0       0       0       0       0   \n\n       pixel8    ...     pixel774  pixel775  pixel776  pixel777  pixel778  \\\n15592       0    ...            0         0         0         0         0   \n\n       pixel779  pixel780  pixel781  pixel782  pixel783  \n15592         0         0         0         0         0  \n\n[1 rows x 785 columns]",
            "text/html": "<div>\n<style>\n    .dataframe thead tr:only-child th {\n        text-align: right;\n    }\n\n    .dataframe thead th {\n        text-align: left;\n    }\n\n    .dataframe tbody tr th {\n        vertical-align: top;\n    }\n</style>\n<table border=\"1\" class=\"dataframe\">\n  <thead>\n    <tr style=\"text-align: right;\">\n      <th></th>\n      <th>label</th>\n      <th>pixel0</th>\n      <th>pixel1</th>\n      <th>pixel2</th>\n      <th>pixel3</th>\n      <th>pixel4</th>\n      <th>pixel5</th>\n      <th>pixel6</th>\n      <th>pixel7</th>\n      <th>pixel8</th>\n      <th>...</th>\n      <th>pixel774</th>\n      <th>pixel775</th>\n      <th>pixel776</th>\n      <th>pixel777</th>\n      <th>pixel778</th>\n      <th>pixel779</th>\n      <th>pixel780</th>\n      <th>pixel781</th>\n      <th>pixel782</th>\n      <th>pixel783</th>\n    </tr>\n  </thead>\n  <tbody>\n    <tr>\n      <th>15592</th>\n      <td>2</td>\n      <td>0</td>\n      <td>0</td>\n      <td>0</td>\n      <td>0</td>\n      <td>0</td>\n      <td>0</td>\n      <td>0</td>\n      <td>0</td>\n      <td>0</td>\n      <td>...</td>\n      <td>0</td>\n      <td>0</td>\n      <td>0</td>\n      <td>0</td>\n      <td>0</td>\n      <td>0</td>\n      <td>0</td>\n      <td>0</td>\n      <td>0</td>\n      <td>0</td>\n    </tr>\n  </tbody>\n</table>\n<p>1 rows × 785 columns</p>\n</div>"
          },
          "metadata": {}
        }
      ]
    },
    {
      "metadata": {
        "_uuid": "c8901e3ec5ebb38550332fa402a807ad142c662a",
        "_cell_guid": "cf49b562-a47d-4844-8d9b-43627f7fe428"
      },
      "cell_type": "markdown",
      "source": "We randomly split this set of 42000 images into 3 sets - \n- training: data used to train convnet\n- cross validation: data used to validate performance\n- test: data used to test classification accuracy\n\nEach of these sets consists of features (X_ numpy array) and a vector of output labels (y) \n\nWhile there is a separate test set available, we are not using that in this notebook, since it is not labeled and cannot be easily evaluated.\n"
    },
    {
      "metadata": {
        "_cell_guid": "2c352ab8-7d7c-486e-b73f-88b012934910",
        "_kg_hide-input": true,
        "_kg_hide-output": false,
        "_uuid": "3d596b8bb54a58a2b2d5445e00a8f3ff25693aec",
        "trusted": true
      },
      "cell_type": "code",
      "source": "X_train, X_val, y_train, y_val = train_test_split(df.iloc[:,1:].values, df.iloc[:,0].values, test_size = 0.4)\nX_cv, X_test, y_cv, y_test = train_test_split(X_val, y_val, test_size = 0.5)\nprint(\"X_train:{}\\ny_train:{}\\n\\nX_cv:{}\\ny_cv:{}\\n\\nX_test:{}\\ny_test:{}\".format(X_train.shape, y_train.shape, X_cv.shape, y_cv.shape, X_test.shape, y_test.shape))",
      "execution_count": 5,
      "outputs": [
        {
          "output_type": "stream",
          "text": "X_train:(25200, 784)\ny_train:(25200,)\n\nX_cv:(8400, 784)\ny_cv:(8400,)\n\nX_test:(8400, 784)\ny_test:(8400,)\n",
          "name": "stdout"
        }
      ]
    },
    {
      "metadata": {
        "_uuid": "e7957c12ae9b4cbac677647efcf017494fad0674",
        "_cell_guid": "9195a41f-e1de-4c3f-ad59-4d41ecf5333a"
      },
      "cell_type": "markdown",
      "source": "This data is in an unrolled format, i.e. each sample is a sequence of 784 pixel values. We will convert this using numpy's reshape function to (28x28x1). i.e. an image that is 28 pixels wide and 28 pixels tall, with 1 channel (black and white image).  So for example, the shape of the training set becomes (25200 samples, 28px, 28px, 1ch)\n\nWe change the output class (label) to categorical (one hot format). i.e. instead of a single value 0-9, we convert this to a array of size 10 with the corresponding element turned on. e.g.\n\nOutput label y = [9] becomes\n\ny = [0,0,0,0,0,0,0,0,1,0]\n\nAdditionally, we scale all the features (pixel values) from a range of 0-255, to a range of 0-1. This is done by dividing each value in the feature matrix by 255.\n\nHere are the new shapes of training, cross validation and test data sets."
    },
    {
      "metadata": {
        "_cell_guid": "8e1d313f-5ba7-4ca9-85a8-ce89f8065d36",
        "_kg_hide-input": true,
        "_uuid": "9770dd5e425b348534ffcf3eeffcbc329c81a283",
        "trusted": true
      },
      "cell_type": "code",
      "source": "width = 28\nheight = 28\nchannels = 1\nX_train = X_train.reshape(X_train.shape[0], width, height, channels)\nX_cv = X_cv.reshape(X_cv.shape[0], width, height, channels)\nX_test = X_test.reshape(X_test.shape[0], width, height, channels)\n\n# convert output classes to one hot representation\ny_train = np_utils.to_categorical(y_train, num_classes=10)\ny_cv = np_utils.to_categorical(y_cv, num_classes=10)\ny_test = np_utils.to_categorical(y_test, num_classes=10)\n\nX_train = X_train.astype('float32')\nX_cv = X_cv.astype('float32')\nX_test = X_test.astype('float32')\n\n# Scale features (pixel values) from 0-255, to 0-1 \nX_train /= 255\nX_cv /= 255\nX_test /= 255\nprint(\"Reshaped:\")\nprint(\"X_train:{}\\ny_train:{}\\n\\nX_cv:{}\\ny_cv:{}\\n\\nX_test:{}\\ny_test:{}\".format(X_train.shape, y_train.shape, X_cv.shape, y_cv.shape, X_test.shape, y_test.shape))",
      "execution_count": 6,
      "outputs": [
        {
          "output_type": "stream",
          "text": "Reshaped:\nX_train:(25200, 28, 28, 1)\ny_train:(25200, 10)\n\nX_cv:(8400, 28, 28, 1)\ny_cv:(8400, 10)\n\nX_test:(8400, 28, 28, 1)\ny_test:(8400, 10)\n",
          "name": "stdout"
        }
      ]
    },
    {
      "metadata": {
        "_uuid": "ea23cc67247730159519d846c16ebf31301cde35",
        "_cell_guid": "3953b277-4d4c-4104-a340-50aa5e4ef4dc"
      },
      "cell_type": "markdown",
      "source": "And a preview of few images in the training set."
    },
    {
      "metadata": {
        "_cell_guid": "b7ce1759-4b5e-4e27-b441-30d8c37e48c2",
        "_kg_hide-input": true,
        "_uuid": "0ea104d9453b0e0fd9970ea54cf830100a11f24b",
        "trusted": true
      },
      "cell_type": "code",
      "source": "display_images(X_train, y_train)",
      "execution_count": 7,
      "outputs": [
        {
          "output_type": "display_data",
          "data": {
            "text/plain": "<matplotlib.figure.Figure at 0x7fa7b8b54240>",
            "image/png": "[encoded data removed]"
          },
          "metadata": {}
        }
      ]
    },
    {
      "metadata": {
        "_uuid": "ecc1e09f08fde5ac76fbcfd2eaadd91d65ef4a75"
      },
      "cell_type": "markdown",
      "source": "Next, we will create two ConvNets using Keras sequential model - A small convnet with a very few layers, and a deeper convolutional network with many layers. We will then explore these models with and without adaptive learning rate and data augmentation."
    },
    {
      "metadata": {
        "_cell_guid": "1d57bf43-e93f-4082-b7e3-313da8d22851",
        "_kg_hide-input": true,
        "collapsed": true,
        "_uuid": "262cf24e6620efccd55fa86f83c46d7b97af5e97",
        "trusted": true
      },
      "cell_type": "code",
      "source": "batch_size=32\nepochs=15\n\ndef small_cnn_model():\n    m = Sequential()\n    m.add(Conv2D(32, (5, 5), activation='relu', input_shape=(width, height, channels) ))\n    m.add(MaxPooling2D(pool_size=(3,3)))\n    m.add(Flatten())\n    m.add(Dense(128, activation='relu'))\n    m.add(Dropout(0.4))\n    m.add(Dense(10, activation='softmax'))\n    m.compile(loss='categorical_crossentropy',\n              optimizer='adam',\n              metrics=['accuracy'])\n    return m\n\ndef deep_cnn_model():\n    m = Sequential()\n    m.add(Conv2D(32, (5, 5), activation='relu', input_shape=(width, height, channels) ))\n    m.add(Conv2D(32, (5,5)))\n    m.add(MaxPooling2D(pool_size=(2,2)))\n    m.add(Dropout(0.2))\n    m.add(Conv2D(64, (3,3)))\n    m.add(Conv2D(64, (3,3)))\n    m.add(MaxPooling2D(pool_size=(2,2)))\n    m.add(Dropout(0.2))\n    m.add(Flatten())\n    m.add(Dense(1024, activation='relu'))\n    m.add(Dropout(0.4))\n    m.add(Dense(10, activation='softmax'))\n    m.compile(loss='categorical_crossentropy',\n                  optimizer='adam',\n                  metrics=['accuracy'])\n    return m\n\ndef plot_metrics(h, title=\"\"):\n    \"\"\" Plot training metrics - loss and accuracy, for each epoch, \n        given a training history object\n    \"\"\"\n    fig, axes = plt.subplots(1,2, figsize=(10,5))\n      \n    axes[0].plot(h.history['loss'], color=\"steelblue\", label=\"Training\", lw=2.0)\n    axes[0].plot(h.history['val_loss'], color=\"orchid\", label=\"Validation\", lw=2.0)\n\n    axes[0].set_title(\"{} (Loss)\".format(title))\n    axes[0].set_xlabel(\"Epoch\")\n    axes[0].set_ylabel(\"Loss\")\n\n    axes[1].plot(h.history['acc'], color=\"steelblue\", label=\"Training\", lw=2.0)\n    axes[1].plot(h.history['val_acc'], color=\"orchid\", label=\"Validation\", lw=2.0)\n    \n    axes[1].set_title(\"{} (Accuracy)\".format(title))\n    axes[1].set_xlabel(\"Epoch\")\n    axes[1].set_ylabel(\"Accuracy\")\n\n    for axis in axes:\n        axis.ticklabel_format(useOffset=False)\n        axis.spines[\"top\"].set_visible(False)\n        axis.spines[\"right\"].set_visible(False)\n        axis.legend(loc='best', shadow=False)\n    fig.tight_layout()",
      "execution_count": 9,
      "outputs": []
    },
    {
      "metadata": {
        "_uuid": "1d24e4016cfe66205548bedfd511692daa026472",
        "_cell_guid": "afb4186a-9bd4-441d-96b4-cce7e73f1144"
      },
      "cell_type": "markdown",
      "source": "## Training a small convnet\n\nOur small convnet with 1 convolutional layer and 2 dense layers, looks like this.\n\n<img src=\"https://raw.githubusercontent.com/vinayshanbhag/keras-cnn-mnist/master/sm.png\"/>"
    },
    {
      "metadata": {
        "_cell_guid": "a288d5ec-2b56-48db-b595-5cd1131eb98b",
        "_kg_hide-input": true,
        "_kg_hide-output": false,
        "scrolled": false,
        "_uuid": "be659d2405503d1d2e8c0b701ac15734ce669503",
        "trusted": true
      },
      "cell_type": "code",
      "source": "sm = small_cnn_model()\n#sm.summary()\nmetrics_small = sm.fit(X_train, y_train, batch_size = batch_size, epochs = epochs, \n          validation_data = (X_cv,y_cv), verbose = 2, shuffle=True)\n#sm.save_weights(\"small.h5\")",
      "execution_count": 10,
      "outputs": [
        {
          "output_type": "stream",
          "text": "Train on 25200 samples, validate on 8400 samples\nEpoch 1/15\n13s - loss: 0.3139 - acc: 0.9053 - val_loss: 0.1010 - val_acc: 0.9680\nEpoch 2/15\n12s - loss: 0.1155 - acc: 0.9660 - val_loss: 0.0690 - val_acc: 0.9779\nEpoch 3/15\n12s - loss: 0.0833 - acc: 0.9758 - val_loss: 0.0546 - val_acc: 0.9827\nEpoch 4/15\n12s - loss: 0.0674 - acc: 0.9790 - val_loss: 0.0506 - val_acc: 0.9861\nEpoch 5/15\n12s - loss: 0.0530 - acc: 0.9839 - val_loss: 0.0469 - val_acc: 0.9855\nEpoch 6/15\n12s - loss: 0.0500 - acc: 0.9833 - val_loss: 0.0428 - val_acc: 0.9870\nEpoch 7/15\n12s - loss: 0.0423 - acc: 0.9861 - val_loss: 0.0421 - val_acc: 0.9873\nEpoch 8/15\n12s - loss: 0.0344 - acc: 0.9885 - val_loss: 0.0461 - val_acc: 0.9855\nEpoch 9/15\n11s - loss: 0.0330 - acc: 0.9895 - val_loss: 0.0409 - val_acc: 0.9871\nEpoch 10/15\n11s - loss: 0.0275 - acc: 0.9909 - val_loss: 0.0477 - val_acc: 0.9861\nEpoch 11/15\n11s - loss: 0.0245 - acc: 0.9925 - val_loss: 0.0477 - val_acc: 0.9873\nEpoch 12/15\n11s - loss: 0.0244 - acc: 0.9917 - val_loss: 0.0430 - val_acc: 0.9874\nEpoch 13/15\n11s - loss: 0.0220 - acc: 0.9927 - val_loss: 0.0404 - val_acc: 0.9880\nEpoch 14/15\n11s - loss: 0.0192 - acc: 0.9940 - val_loss: 0.0489 - val_acc: 0.9868\nEpoch 15/15\n11s - loss: 0.0183 - acc: 0.9940 - val_loss: 0.0433 - val_acc: 0.9888\n",
          "name": "stdout"
        }
      ]
    },
    {
      "metadata": {
        "_uuid": "ce5bb11fbb7c1b3dd47e514601e70ec90d451060",
        "_cell_guid": "02530963-8f5b-4481-bd54-6917ace02f0a"
      },
      "cell_type": "markdown",
      "source": "Loss and accuracy metrics by epoch for this small ConvNet"
    },
    {
      "metadata": {
        "_cell_guid": "c2961e1e-2833-4b9d-82dd-340ad3527982",
        "_kg_hide-input": true,
        "_uuid": "c06dfeddef10efae5f87643d25c2cc8a8f984544",
        "trusted": true
      },
      "cell_type": "code",
      "source": "plot_metrics(metrics_small,\"Small CNN\")",
      "execution_count": null,
      "outputs": [
        {
          "output_type": "display_data",
          "data": {
            "text/plain": "<matplotlib.figure.Figure at 0x7fa7b5454cc0>",
            "image/png": "[encoded data removed]"
          },
          "metadata": {}
        }
      ]
    },
    {
      "metadata": {
        "_uuid": "73219ed4c2cd0afb14f06c59748d20fc856bc02c",
        "_cell_guid": "112e356d-6367-4eb9-8f0b-899e5fe2e4b3"
      },
      "cell_type": "markdown",
      "source": "## Training a deep convnet\nOur deep convnet with 4 convolutional layers and 2 dense layers, looks like this.\n\n<img src=\"https://raw.githubusercontent.com/vinayshanbhag/keras-cnn-mnist/master/dm.png\"/>"
    },
    {
      "metadata": {
        "_cell_guid": "b1f9653c-9037-4511-a5a1-ea6bf821784c",
        "_kg_hide-input": true,
        "scrolled": false,
        "_uuid": "6e37b94732f05cf818ad7a40f4291994f425d24f",
        "trusted": true
      },
      "cell_type": "code",
      "source": "dm = deep_cnn_model()\n#dm.summary()\nmetrics_deep = dm.fit(X_train, y_train, batch_size = batch_size, epochs = epochs, \n          validation_data = (X_cv, y_cv), verbose = 2, shuffle=True)\n#plot_model(dm, show_shapes=True, show_layer_names=False,to_file='dm.png')",
      "execution_count": null,
      "outputs": [
        {
          "output_type": "stream",
          "text": "Train on 25200 samples, validate on 8400 samples\nEpoch 1/15\n79s - loss: 0.2273 - acc: 0.9302 - val_loss: 0.0613 - val_acc: 0.9799\nEpoch 2/15\n79s - loss: 0.0868 - acc: 0.9739 - val_loss: 0.0554 - val_acc: 0.9831\nEpoch 3/15\n91s - loss: 0.0719 - acc: 0.9781 - val_loss: 0.0696 - val_acc: 0.9793\nEpoch 4/15\n",
          "name": "stdout"
        }
      ]
    },
    {
      "metadata": {
        "_uuid": "d8f46526a34ba0a73a01618bbbca84edc84f03dd",
        "_cell_guid": "bbff6ef5-19ce-4ac9-baff-6410eca85bba"
      },
      "cell_type": "markdown",
      "source": "Loss and Accuracy metrics for this model by epoch."
    },
    {
      "metadata": {
        "_cell_guid": "0198c25a-12e5-4761-9d0c-f9ad2e13c2fd",
        "_kg_hide-input": false,
        "_uuid": "f138ad5189365f652041fd636824697cf8d5adbd",
        "trusted": true,
        "collapsed": true
      },
      "cell_type": "code",
      "source": "#dm.save_weights(\"deep.h5\")\nplot_metrics(metrics_deep,\"Deep CNN\")",
      "execution_count": null,
      "outputs": []
    },
    {
      "metadata": {
        "_uuid": "eca87f396d2a0d97704827a84c52a6f04422cada",
        "_cell_guid": "10a04328-5c51-470d-8daf-c87a45faf78f"
      },
      "cell_type": "markdown",
      "source": "## Adaptive Learning Rate\n\nLearning rate is the step size in gradient descent. Our convnet is trying to find the lowest point, the point at which the loss is minimum. If the step size is too large, it may not converge or take too long. On the other hand, if the step size is too small, it may converge on a local minimum.\n<p>&nbsp;</p>\n<sup style=\"float: left;\">Source: Wikimedia Commons, the free media repository</sup>\n<img style=\"float: left;\" src=\"https://upload.wikimedia.org/wikipedia/commons/thumb/1/1e/Extrema_example.svg/300px-Extrema_example.svg.png\"/>\n<p style=\"float: left;\">We will use ```ReduceLROnPlateau``` to adapt the learning rate based on results from each epoch. For instance, if the validation accuracy doesn't improve in 2 subsequent epochs (patience), then reduce the learning rate by half (factor).  See [```ReduceLROnPlateau```](https://keras.io/callbacks/#reducelronplateau) for more options.</p>\n\n<p style=\"float: left\">Further, the verbose mode, allows us to see when this happens.</p>"
    },
    {
      "metadata": {
        "_cell_guid": "802d61ec-8520-43fa-a419-6e70a967f1a4",
        "_kg_hide-input": true,
        "collapsed": true,
        "_uuid": "9080fd2aeb1f5e4ffbfe56d27705cffa342845e9",
        "trusted": false
      },
      "cell_type": "code",
      "source": "lrc = ReduceLROnPlateau(monitor='val_acc', patience=2, verbose=2, factor=0.5, cooldown=2, epsilon=0.00001)",
      "execution_count": 13,
      "outputs": []
    },
    {
      "metadata": {
        "_uuid": "eec99f91d06fddb7e2a4d068c7776ebf1e4f01c0",
        "_cell_guid": "0bed7dc0-6443-4158-b259-16795997e117"
      },
      "cell_type": "markdown",
      "source": "## Training a small convnet with adaptive learning rate\nHere we train the same small convnet we used earlier, but with adaptive learning rate. "
    },
    {
      "metadata": {
        "_cell_guid": "0c210d1f-cbf4-483d-b09f-740d0e997436",
        "_kg_hide-input": true,
        "scrolled": false,
        "_uuid": "57b4ba3422f1c563a78f18080a29468c9ce88501",
        "trusted": true,
        "collapsed": true
      },
      "cell_type": "code",
      "source": "smlrc = small_cnn_model()\nmetrics_small_lrc = smlrc.fit(X_train, y_train, batch_size = batch_size, epochs = epochs, \n          validation_data = (X_cv, y_cv), verbose = 2, shuffle=True, callbacks=[lrc])\n#smlrc.save_weights(\"small_lrc.h5\")",
      "execution_count": null,
      "outputs": []
    },
    {
      "metadata": {
        "_uuid": "3fbafcb8730b27747151e4efa9d345a231ab2a99",
        "_cell_guid": "b778272c-6af1-45b8-bb32-ab8e6efeb4c3"
      },
      "cell_type": "markdown",
      "source": "Loss and Accuracy metrics for this model with adaptive learning rate."
    },
    {
      "metadata": {
        "_cell_guid": "3ee91c83-cd2d-46f0-ad71-73696d261fee",
        "_kg_hide-input": true,
        "_uuid": "00a905ac2e7adea55e0395098b05b05f4ae98398",
        "trusted": true,
        "collapsed": true
      },
      "cell_type": "code",
      "source": "plot_metrics(metrics_small_lrc, \"Small CNN with \\nAdaptive Learning Rate\\n\")",
      "execution_count": null,
      "outputs": []
    },
    {
      "metadata": {
        "_uuid": "359a9a68eade0d4e9390f14032c155cb30645d78",
        "_cell_guid": "f57d9b4e-7255-4f06-8904-dad8f51743f4"
      },
      "cell_type": "markdown",
      "source": "## Training a deep convnet with adaptive learning rate\nHere we train the same deep convnet we used earlier, but with adaptive learning rate. "
    },
    {
      "metadata": {
        "_cell_guid": "c2afcebe-c7ee-46af-b6cb-0baa637e57df",
        "_kg_hide-input": true,
        "scrolled": false,
        "_uuid": "b45a64ceda72730df8590b0e21f824ce48ac0faa",
        "trusted": true,
        "collapsed": true
      },
      "cell_type": "code",
      "source": "dmlrc = deep_cnn_model()\nmetrics_deep_lrc = dmlrc.fit(X_train, y_train, batch_size = batch_size, epochs = epochs, \n          validation_data = (X_cv, y_cv), verbose = 2, shuffle=True, callbacks=[lrc])\n#dmlrc.save_weights(\"deep_lrc.h5\")",
      "execution_count": null,
      "outputs": []
    },
    {
      "metadata": {
        "_uuid": "ad411039202181f911ce0489d50843633969c033",
        "_cell_guid": "f9eefc86-f518-4f5e-a822-d50a9575d334"
      },
      "cell_type": "markdown",
      "source": "Loss and accuracy metrics for this deep convnet with adaptive learning rate."
    },
    {
      "metadata": {
        "_cell_guid": "f10ab09b-5cf7-4e0e-ad4c-813e67519e86",
        "_kg_hide-input": true,
        "_uuid": "349b98c43d8e95a7acbc9b5e27c18bb3fdcc69e6",
        "trusted": true,
        "collapsed": true
      },
      "cell_type": "code",
      "source": "plot_metrics(metrics_deep_lrc, \"Deep CNN with Adaptive Learning Rate\")",
      "execution_count": null,
      "outputs": []
    },
    {
      "metadata": {
        "_cell_guid": "9842b60f-5b52-4255-a182-49db28799848",
        "_uuid": "76e11747354c11e3c6e1a977f876bb26bc8b83d8"
      },
      "cell_type": "markdown",
      "source": "## Data Augmentation\n\nTo improve classification accuracy, we can augment the training samples, with random transformations of images in the training set. In Keras, this is done using ```keras.preprocessing.image.ImageDataGenerator``` class. We can apply random transformations such as, zooming, rotation, shifting the image up/down. We will limit rotation to a few degrees, and disable horizontal and vertical flipping, as our dataset of digits is prone to produce ambiguous results with these operations. \n\nSee [```ImageDataGenerator```](https://keras.io/preprocessing/image/#imagedatagenerator) for lots of other options that are useful for other types of images."
    },
    {
      "metadata": {
        "_cell_guid": "9ef18ef7-fcf2-470d-be1a-a38fd64cf013",
        "_kg_hide-input": true,
        "collapsed": true,
        "_uuid": "029fc1e24038ae8a47870aa2814e72890d57919e",
        "trusted": true
      },
      "cell_type": "code",
      "source": "idg = ImageDataGenerator(\n        rotation_range=15,\n        zoom_range = 0.1, \n        width_shift_range=0.1,\n        height_shift_range=0.1,\n        horizontal_flip=False,\n        vertical_flip=False, data_format=\"channels_last\")",
      "execution_count": null,
      "outputs": []
    },
    {
      "metadata": {
        "_uuid": "5f5c8eb35adad44d298c8a80a569be67409827a2",
        "_cell_guid": "7803778c-7281-43cc-a6e0-7d05bfbd15a1"
      },
      "cell_type": "markdown",
      "source": "Here are a few images produced by the image data generator."
    },
    {
      "metadata": {
        "_cell_guid": "20baa4e5-9e53-4349-be9e-0f4b771f6736",
        "_kg_hide-input": true,
        "_uuid": "7b8d7fed4abb88a756223a5cd55cdf8eae5aefb0",
        "trusted": true,
        "collapsed": true
      },
      "cell_type": "code",
      "source": "image_data = idg.flow(X_train,y_train, batch_size=25).next()\nprint(\"Sample images from ImageDataGenerator:\")\ndisplay_images(image_data[0], image_data[1])",
      "execution_count": null,
      "outputs": []
    },
    {
      "metadata": {
        "_uuid": "31ab55dd4eb26dc393c2202e163d6443caab7a6e",
        "_cell_guid": "607cbe01-808e-4f01-803f-b92d79146469"
      },
      "cell_type": "markdown",
      "source": "## Training a small convnet with data augmentation\n\nHere we train the same small convnet we used earlier, but with data augmentation and adaptive learning rate.. "
    },
    {
      "metadata": {
        "_cell_guid": "d271911c-0521-4b08-b003-987bdb6ce2ec",
        "_kg_hide-input": true,
        "_uuid": "8f2969430876b1ee14d830129c127492eb8f2c5d",
        "trusted": true,
        "collapsed": true
      },
      "cell_type": "code",
      "source": "smalrc = small_cnn_model()\nmetrics_small_lrc_augmented = smalrc.fit_generator(idg.flow(X_train,y_train, batch_size=batch_size),\n                    epochs = epochs,\n                    steps_per_epoch=X_train.shape[0]/10,\n                    validation_data=(X_cv,y_cv),\n                    callbacks=[lrc],\n                    verbose = 2)\nsmalrc.save_weights(\"small_lrc_augmented.h5\")",
      "execution_count": null,
      "outputs": []
    },
    {
      "metadata": {
        "_uuid": "f26e0793f05141159653178fe880f5976c853a8b",
        "_cell_guid": "7270c83d-3205-49f0-98ad-f9b0a8857052"
      },
      "cell_type": "markdown",
      "source": "Loss and accuracy metrics for a small convnet with data augmentation and adaptive learning rate."
    },
    {
      "metadata": {
        "_uuid": "0386536f23a13fcffa6c3384981ca64ec9a12c53",
        "_cell_guid": "3a93437d-6698-4f9d-bc22-ec29dc7a57a9",
        "_kg_hide-input": true,
        "trusted": true,
        "collapsed": true
      },
      "cell_type": "code",
      "source": "plot_metrics(metrics_small_lrc_augmented, \"Small CNN with \\nAdaptive Learning Rate\\n and Data Augmentation\\n\")",
      "execution_count": null,
      "outputs": []
    },
    {
      "metadata": {
        "_uuid": "b0288cdbbb44da0ab3daae2d4e844e0300b437fe",
        "_cell_guid": "6c610c0d-137f-4e81-8e08-2b53cad63916"
      },
      "cell_type": "markdown",
      "source": "## Training a deep convnet with data augmentation\n\nNext we train the same deep convnet we used earlier, but with data augmentation and adaptive learning rate. "
    },
    {
      "metadata": {
        "_cell_guid": "7583308e-2ef7-4141-8051-56360c517126",
        "_kg_hide-input": true,
        "_uuid": "92c432bb5d446c695fcd3d1c5541d54a50dd8cf2",
        "trusted": true,
        "collapsed": true
      },
      "cell_type": "code",
      "source": "dmalrc = deep_cnn_model()\nmetrics_deep_lrc_augmented = dmalrc.fit_generator(idg.flow(X_train,y_train, batch_size=batch_size),\n                    epochs = epochs,\n                    steps_per_epoch=X_train.shape[0]/10,\n                    validation_data=(X_cv,y_cv),\n                    callbacks=[lrc],                         \n                    verbose = 2)\n#dmalrc.save_weights(\"deep_lrc_augmented.h5\")",
      "execution_count": null,
      "outputs": []
    },
    {
      "metadata": {
        "_uuid": "638b161f4518b218af74408fa778051b8c4d9c1f",
        "_cell_guid": "717bdbd0-8352-43e3-a8f3-673d53856f02"
      },
      "cell_type": "markdown",
      "source": "Loss and accuracy metrics for a deep convnet with data augmentation and adaptive learning rate."
    },
    {
      "metadata": {
        "_cell_guid": "514f2e7d-bf7e-4a75-998c-b6a98992ec01",
        "_kg_hide-input": true,
        "_uuid": "b80e3d39ad02197bbbc89ec894b463864e536fcd",
        "trusted": true,
        "collapsed": true
      },
      "cell_type": "code",
      "source": "plot_metrics(metrics_deep_lrc_augmented,\"Deep CNN with \\nAdaptive Learning Rate and \\nData Augmentation\\n\")",
      "execution_count": null,
      "outputs": []
    },
    {
      "metadata": {
        "_uuid": "beb199697afc090d5e28e79038b0f81fcb3238e5",
        "_cell_guid": "cde1c9bc-0cce-41e4-bf2e-f6b06f1be78d"
      },
      "cell_type": "markdown",
      "source": "## Validation Accuracy\n\nHow did the various models do in terms of validation accuracy?"
    },
    {
      "metadata": {
        "_uuid": "2339fbe5aadbc8a3229c1440d3cfa738f18a1872",
        "_cell_guid": "79aed18a-86be-4104-aa71-f22813f6e7c6",
        "_kg_hide-input": true,
        "trusted": true,
        "_kg_hide-output": false,
        "collapsed": true
      },
      "cell_type": "code",
      "source": "metrics = [metrics_small, metrics_small_lrc, metrics_small_lrc_augmented, metrics_deep, metrics_deep_lrc, metrics_deep_lrc_augmented]\nmodels = [\"Small CNN\", \"Small CNN + Learning Rate\", \"Small CNN + Learning Rate + Aug\",\n          \"Deep CNN\", \"Deep CNN + Learning Rate\", \"Deep CNN + Learning Rate + Aug\",\n         ]\ndata = []\nfor i, m in enumerate(zip(models, metrics)):\n    data.append([m[0], \"{:0.2f}\".format(m[1].history[\"val_acc\"][-1]*100)])\n\nresults = pd.DataFrame(data, columns=(\"Model\",\"Validation Accuracy\"))\nfrom IPython.display import display, HTML\ndisplay(HTML(results.to_html(index=False)))",
      "execution_count": null,
      "outputs": []
    },
    {
      "metadata": {
        "_uuid": "8becd7f5480872f5637e77bd62953cdbb6ecb9d6",
        "collapsed": true,
        "_cell_guid": "99666f09-9080-4ad6-8d2b-14170e344943"
      },
      "cell_type": "markdown",
      "source": "#### Work In Progress"
    },
    {
      "metadata": {
        "_uuid": "e03236f29b264a60d0b8968d9268389284c1a094",
        "collapsed": true,
        "_cell_guid": "86a4edd4-06a1-4240-9ef0-2d4505ccaecb",
        "trusted": false
      },
      "cell_type": "code",
      "source": "",
      "execution_count": null,
      "outputs": []
    },
    {
      "metadata": {
        "_uuid": "0714bfc4e949de9a4fcba7162e4c68036ea5a648",
        "collapsed": true,
        "_cell_guid": "ad140e4d-ad85-4e51-b816-09912ab137d9",
        "trusted": false
      },
      "cell_type": "code",
      "source": "",
      "execution_count": null,
      "outputs": []
    }
  ],
  "metadata": {
    "language_info": {
      "name": "python",
      "version": "3.6.3",
      "mimetype": "text/x-python",
      "codemirror_mode": {
        "name": "ipython",
        "version": 3
      },
      "pygments_lexer": "ipython3",
      "nbconvert_exporter": "python",
      "file_extension": ".py"
    },
    "kernelspec": {
      "display_name": "Python 3",
      "language": "python",
      "name": "python3"
    }
  },
  "nbformat": 4,
  "nbformat_minor": 1
}